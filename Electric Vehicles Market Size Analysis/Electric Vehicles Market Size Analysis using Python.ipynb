{
  "nbformat": 4,
  "nbformat_minor": 0,
  "metadata": {
    "colab": {
      "provenance": [],
      "gpuType": "T4"
    },
    "kernelspec": {
      "name": "python3",
      "display_name": "Python 3"
    },
    "language_info": {
      "name": "python"
    },
    "accelerator": "GPU"
  },
  "cells": [
    {
      "cell_type": "markdown",
      "source": [
        "# Electric Vehicles Market Size Analysis using Python\n",
        "\n"
      ],
      "metadata": {
        "id": "sJ5EvtHkKlFC"
      }
    },
    {
      "cell_type": "code",
      "execution_count": 1,
      "metadata": {
        "id": "3kOl7jrZKGbF"
      },
      "outputs": [],
      "source": [
        "import pandas as pd"
      ]
    },
    {
      "cell_type": "code",
      "source": [
        "ev_data=pd.read_csv('Electric_Vehicle_Population_Data.csv')"
      ],
      "metadata": {
        "id": "vysAXTIQaf4z"
      },
      "execution_count": 2,
      "outputs": []
    },
    {
      "cell_type": "code",
      "source": [
        "print(ev_data.head())"
      ],
      "metadata": {
        "colab": {
          "base_uri": "https://localhost:8080/"
        },
        "id": "GvEOAih3bTC9",
        "outputId": "48b59d29-0df7-46b1-9b89-208fe24eeb1a"
      },
      "execution_count": 4,
      "outputs": [
        {
          "output_type": "stream",
          "name": "stdout",
          "text": [
            "   VIN (1-10)     County       City State  Postal Code  Model Year   Make  \\\n",
            "0  5YJYGDEE1L       King    Seattle    WA      98122.0        2020  TESLA   \n",
            "1  7SAYGDEE9P  Snohomish    Bothell    WA      98021.0        2023  TESLA   \n",
            "2  5YJSA1E4XK       King    Seattle    WA      98109.0        2019  TESLA   \n",
            "3  5YJSA1E27G       King   Issaquah    WA      98027.0        2016  TESLA   \n",
            "4  5YJYGDEE5M     Kitsap  Suquamish    WA      98392.0        2021  TESLA   \n",
            "\n",
            "     Model           Electric Vehicle Type  \\\n",
            "0  MODEL Y  Battery Electric Vehicle (BEV)   \n",
            "1  MODEL Y  Battery Electric Vehicle (BEV)   \n",
            "2  MODEL S  Battery Electric Vehicle (BEV)   \n",
            "3  MODEL S  Battery Electric Vehicle (BEV)   \n",
            "4  MODEL Y  Battery Electric Vehicle (BEV)   \n",
            "\n",
            "   Clean Alternative Fuel Vehicle (CAFV) Eligibility  Electric Range  \\\n",
            "0            Clean Alternative Fuel Vehicle Eligible             291   \n",
            "1  Eligibility unknown as battery range has not b...               0   \n",
            "2            Clean Alternative Fuel Vehicle Eligible             270   \n",
            "3            Clean Alternative Fuel Vehicle Eligible             210   \n",
            "4  Eligibility unknown as battery range has not b...               0   \n",
            "\n",
            "   Base MSRP  Legislative District  DOL Vehicle ID  \\\n",
            "0          0                  37.0       125701579   \n",
            "1          0                   1.0       244285107   \n",
            "2          0                  36.0       156773144   \n",
            "3          0                   5.0       165103011   \n",
            "4          0                  23.0       205138552   \n",
            "\n",
            "                Vehicle Location  \\\n",
            "0   POINT (-122.30839 47.610365)   \n",
            "1  POINT (-122.179458 47.802589)   \n",
            "2   POINT (-122.34848 47.632405)   \n",
            "3   POINT (-122.03646 47.534065)   \n",
            "4   POINT (-122.55717 47.733415)   \n",
            "\n",
            "                                Electric Utility  2020 Census Tract  \n",
            "0   CITY OF SEATTLE - (WA)|CITY OF TACOMA - (WA)       5.303301e+10  \n",
            "1                         PUGET SOUND ENERGY INC       5.306105e+10  \n",
            "2   CITY OF SEATTLE - (WA)|CITY OF TACOMA - (WA)       5.303301e+10  \n",
            "3  PUGET SOUND ENERGY INC||CITY OF TACOMA - (WA)       5.303303e+10  \n",
            "4                         PUGET SOUND ENERGY INC       5.303594e+10  \n"
          ]
        }
      ]
    },
    {
      "cell_type": "code",
      "source": [
        "print(ev_data.info())"
      ],
      "metadata": {
        "colab": {
          "base_uri": "https://localhost:8080/"
        },
        "id": "IB6DdonAbcE6",
        "outputId": "c26015ab-153c-4c9b-8644-ae7e8a6fbe50"
      },
      "execution_count": 5,
      "outputs": [
        {
          "output_type": "stream",
          "name": "stdout",
          "text": [
            "<class 'pandas.core.frame.DataFrame'>\n",
            "RangeIndex: 177866 entries, 0 to 177865\n",
            "Data columns (total 17 columns):\n",
            " #   Column                                             Non-Null Count   Dtype  \n",
            "---  ------                                             --------------   -----  \n",
            " 0   VIN (1-10)                                         177866 non-null  object \n",
            " 1   County                                             177861 non-null  object \n",
            " 2   City                                               177861 non-null  object \n",
            " 3   State                                              177866 non-null  object \n",
            " 4   Postal Code                                        177861 non-null  float64\n",
            " 5   Model Year                                         177866 non-null  int64  \n",
            " 6   Make                                               177866 non-null  object \n",
            " 7   Model                                              177866 non-null  object \n",
            " 8   Electric Vehicle Type                              177866 non-null  object \n",
            " 9   Clean Alternative Fuel Vehicle (CAFV) Eligibility  177866 non-null  object \n",
            " 10  Electric Range                                     177866 non-null  int64  \n",
            " 11  Base MSRP                                          177866 non-null  int64  \n",
            " 12  Legislative District                               177477 non-null  float64\n",
            " 13  DOL Vehicle ID                                     177866 non-null  int64  \n",
            " 14  Vehicle Location                                   177857 non-null  object \n",
            " 15  Electric Utility                                   177861 non-null  object \n",
            " 16  2020 Census Tract                                  177861 non-null  float64\n",
            "dtypes: float64(3), int64(4), object(10)\n",
            "memory usage: 23.1+ MB\n",
            "None\n"
          ]
        }
      ]
    },
    {
      "cell_type": "code",
      "source": [
        "ev_data.describe()"
      ],
      "metadata": {
        "colab": {
          "base_uri": "https://localhost:8080/",
          "height": 300
        },
        "id": "xTFHmfzob1bO",
        "outputId": "62642737-2619-4f3d-eaf3-b7c9f1cc4836"
      },
      "execution_count": 6,
      "outputs": [
        {
          "output_type": "execute_result",
          "data": {
            "text/plain": [
              "         Postal Code     Model Year  Electric Range      Base MSRP  \\\n",
              "count  177861.000000  177866.000000   177866.000000  177866.000000   \n",
              "mean    98172.453506    2020.515512       58.842162    1073.109363   \n",
              "std      2442.450668       2.989384       91.981298    8358.624956   \n",
              "min      1545.000000    1997.000000        0.000000       0.000000   \n",
              "25%     98052.000000    2019.000000        0.000000       0.000000   \n",
              "50%     98122.000000    2022.000000        0.000000       0.000000   \n",
              "75%     98370.000000    2023.000000       75.000000       0.000000   \n",
              "max     99577.000000    2024.000000      337.000000  845000.000000   \n",
              "\n",
              "       Legislative District  DOL Vehicle ID  2020 Census Tract  \n",
              "count         177477.000000    1.778660e+05       1.778610e+05  \n",
              "mean              29.127481    2.202313e+08       5.297672e+10  \n",
              "std               14.892169    7.584987e+07       1.578047e+09  \n",
              "min                1.000000    4.385000e+03       1.001020e+09  \n",
              "25%               18.000000    1.814743e+08       5.303301e+10  \n",
              "50%               33.000000    2.282522e+08       5.303303e+10  \n",
              "75%               42.000000    2.548445e+08       5.305307e+10  \n",
              "max               49.000000    4.792548e+08       5.603300e+10  "
            ],
            "text/html": [
              "\n",
              "  <div id=\"df-c1a7cf5a-e584-4dfb-a01f-7b3d85dcb1e1\" class=\"colab-df-container\">\n",
              "    <div>\n",
              "<style scoped>\n",
              "    .dataframe tbody tr th:only-of-type {\n",
              "        vertical-align: middle;\n",
              "    }\n",
              "\n",
              "    .dataframe tbody tr th {\n",
              "        vertical-align: top;\n",
              "    }\n",
              "\n",
              "    .dataframe thead th {\n",
              "        text-align: right;\n",
              "    }\n",
              "</style>\n",
              "<table border=\"1\" class=\"dataframe\">\n",
              "  <thead>\n",
              "    <tr style=\"text-align: right;\">\n",
              "      <th></th>\n",
              "      <th>Postal Code</th>\n",
              "      <th>Model Year</th>\n",
              "      <th>Electric Range</th>\n",
              "      <th>Base MSRP</th>\n",
              "      <th>Legislative District</th>\n",
              "      <th>DOL Vehicle ID</th>\n",
              "      <th>2020 Census Tract</th>\n",
              "    </tr>\n",
              "  </thead>\n",
              "  <tbody>\n",
              "    <tr>\n",
              "      <th>count</th>\n",
              "      <td>177861.000000</td>\n",
              "      <td>177866.000000</td>\n",
              "      <td>177866.000000</td>\n",
              "      <td>177866.000000</td>\n",
              "      <td>177477.000000</td>\n",
              "      <td>1.778660e+05</td>\n",
              "      <td>1.778610e+05</td>\n",
              "    </tr>\n",
              "    <tr>\n",
              "      <th>mean</th>\n",
              "      <td>98172.453506</td>\n",
              "      <td>2020.515512</td>\n",
              "      <td>58.842162</td>\n",
              "      <td>1073.109363</td>\n",
              "      <td>29.127481</td>\n",
              "      <td>2.202313e+08</td>\n",
              "      <td>5.297672e+10</td>\n",
              "    </tr>\n",
              "    <tr>\n",
              "      <th>std</th>\n",
              "      <td>2442.450668</td>\n",
              "      <td>2.989384</td>\n",
              "      <td>91.981298</td>\n",
              "      <td>8358.624956</td>\n",
              "      <td>14.892169</td>\n",
              "      <td>7.584987e+07</td>\n",
              "      <td>1.578047e+09</td>\n",
              "    </tr>\n",
              "    <tr>\n",
              "      <th>min</th>\n",
              "      <td>1545.000000</td>\n",
              "      <td>1997.000000</td>\n",
              "      <td>0.000000</td>\n",
              "      <td>0.000000</td>\n",
              "      <td>1.000000</td>\n",
              "      <td>4.385000e+03</td>\n",
              "      <td>1.001020e+09</td>\n",
              "    </tr>\n",
              "    <tr>\n",
              "      <th>25%</th>\n",
              "      <td>98052.000000</td>\n",
              "      <td>2019.000000</td>\n",
              "      <td>0.000000</td>\n",
              "      <td>0.000000</td>\n",
              "      <td>18.000000</td>\n",
              "      <td>1.814743e+08</td>\n",
              "      <td>5.303301e+10</td>\n",
              "    </tr>\n",
              "    <tr>\n",
              "      <th>50%</th>\n",
              "      <td>98122.000000</td>\n",
              "      <td>2022.000000</td>\n",
              "      <td>0.000000</td>\n",
              "      <td>0.000000</td>\n",
              "      <td>33.000000</td>\n",
              "      <td>2.282522e+08</td>\n",
              "      <td>5.303303e+10</td>\n",
              "    </tr>\n",
              "    <tr>\n",
              "      <th>75%</th>\n",
              "      <td>98370.000000</td>\n",
              "      <td>2023.000000</td>\n",
              "      <td>75.000000</td>\n",
              "      <td>0.000000</td>\n",
              "      <td>42.000000</td>\n",
              "      <td>2.548445e+08</td>\n",
              "      <td>5.305307e+10</td>\n",
              "    </tr>\n",
              "    <tr>\n",
              "      <th>max</th>\n",
              "      <td>99577.000000</td>\n",
              "      <td>2024.000000</td>\n",
              "      <td>337.000000</td>\n",
              "      <td>845000.000000</td>\n",
              "      <td>49.000000</td>\n",
              "      <td>4.792548e+08</td>\n",
              "      <td>5.603300e+10</td>\n",
              "    </tr>\n",
              "  </tbody>\n",
              "</table>\n",
              "</div>\n",
              "    <div class=\"colab-df-buttons\">\n",
              "\n",
              "  <div class=\"colab-df-container\">\n",
              "    <button class=\"colab-df-convert\" onclick=\"convertToInteractive('df-c1a7cf5a-e584-4dfb-a01f-7b3d85dcb1e1')\"\n",
              "            title=\"Convert this dataframe to an interactive table.\"\n",
              "            style=\"display:none;\">\n",
              "\n",
              "  <svg xmlns=\"http://www.w3.org/2000/svg\" height=\"24px\" viewBox=\"0 -960 960 960\">\n",
              "    <path d=\"M120-120v-720h720v720H120Zm60-500h600v-160H180v160Zm220 220h160v-160H400v160Zm0 220h160v-160H400v160ZM180-400h160v-160H180v160Zm440 0h160v-160H620v160ZM180-180h160v-160H180v160Zm440 0h160v-160H620v160Z\"/>\n",
              "  </svg>\n",
              "    </button>\n",
              "\n",
              "  <style>\n",
              "    .colab-df-container {\n",
              "      display:flex;\n",
              "      gap: 12px;\n",
              "    }\n",
              "\n",
              "    .colab-df-convert {\n",
              "      background-color: #E8F0FE;\n",
              "      border: none;\n",
              "      border-radius: 50%;\n",
              "      cursor: pointer;\n",
              "      display: none;\n",
              "      fill: #1967D2;\n",
              "      height: 32px;\n",
              "      padding: 0 0 0 0;\n",
              "      width: 32px;\n",
              "    }\n",
              "\n",
              "    .colab-df-convert:hover {\n",
              "      background-color: #E2EBFA;\n",
              "      box-shadow: 0px 1px 2px rgba(60, 64, 67, 0.3), 0px 1px 3px 1px rgba(60, 64, 67, 0.15);\n",
              "      fill: #174EA6;\n",
              "    }\n",
              "\n",
              "    .colab-df-buttons div {\n",
              "      margin-bottom: 4px;\n",
              "    }\n",
              "\n",
              "    [theme=dark] .colab-df-convert {\n",
              "      background-color: #3B4455;\n",
              "      fill: #D2E3FC;\n",
              "    }\n",
              "\n",
              "    [theme=dark] .colab-df-convert:hover {\n",
              "      background-color: #434B5C;\n",
              "      box-shadow: 0px 1px 3px 1px rgba(0, 0, 0, 0.15);\n",
              "      filter: drop-shadow(0px 1px 2px rgba(0, 0, 0, 0.3));\n",
              "      fill: #FFFFFF;\n",
              "    }\n",
              "  </style>\n",
              "\n",
              "    <script>\n",
              "      const buttonEl =\n",
              "        document.querySelector('#df-c1a7cf5a-e584-4dfb-a01f-7b3d85dcb1e1 button.colab-df-convert');\n",
              "      buttonEl.style.display =\n",
              "        google.colab.kernel.accessAllowed ? 'block' : 'none';\n",
              "\n",
              "      async function convertToInteractive(key) {\n",
              "        const element = document.querySelector('#df-c1a7cf5a-e584-4dfb-a01f-7b3d85dcb1e1');\n",
              "        const dataTable =\n",
              "          await google.colab.kernel.invokeFunction('convertToInteractive',\n",
              "                                                    [key], {});\n",
              "        if (!dataTable) return;\n",
              "\n",
              "        const docLinkHtml = 'Like what you see? Visit the ' +\n",
              "          '<a target=\"_blank\" href=https://colab.research.google.com/notebooks/data_table.ipynb>data table notebook</a>'\n",
              "          + ' to learn more about interactive tables.';\n",
              "        element.innerHTML = '';\n",
              "        dataTable['output_type'] = 'display_data';\n",
              "        await google.colab.output.renderOutput(dataTable, element);\n",
              "        const docLink = document.createElement('div');\n",
              "        docLink.innerHTML = docLinkHtml;\n",
              "        element.appendChild(docLink);\n",
              "      }\n",
              "    </script>\n",
              "  </div>\n",
              "\n",
              "\n",
              "<div id=\"df-6653668e-9dc8-445f-a658-b12729fe3802\">\n",
              "  <button class=\"colab-df-quickchart\" onclick=\"quickchart('df-6653668e-9dc8-445f-a658-b12729fe3802')\"\n",
              "            title=\"Suggest charts\"\n",
              "            style=\"display:none;\">\n",
              "\n",
              "<svg xmlns=\"http://www.w3.org/2000/svg\" height=\"24px\"viewBox=\"0 0 24 24\"\n",
              "     width=\"24px\">\n",
              "    <g>\n",
              "        <path d=\"M19 3H5c-1.1 0-2 .9-2 2v14c0 1.1.9 2 2 2h14c1.1 0 2-.9 2-2V5c0-1.1-.9-2-2-2zM9 17H7v-7h2v7zm4 0h-2V7h2v10zm4 0h-2v-4h2v4z\"/>\n",
              "    </g>\n",
              "</svg>\n",
              "  </button>\n",
              "\n",
              "<style>\n",
              "  .colab-df-quickchart {\n",
              "      --bg-color: #E8F0FE;\n",
              "      --fill-color: #1967D2;\n",
              "      --hover-bg-color: #E2EBFA;\n",
              "      --hover-fill-color: #174EA6;\n",
              "      --disabled-fill-color: #AAA;\n",
              "      --disabled-bg-color: #DDD;\n",
              "  }\n",
              "\n",
              "  [theme=dark] .colab-df-quickchart {\n",
              "      --bg-color: #3B4455;\n",
              "      --fill-color: #D2E3FC;\n",
              "      --hover-bg-color: #434B5C;\n",
              "      --hover-fill-color: #FFFFFF;\n",
              "      --disabled-bg-color: #3B4455;\n",
              "      --disabled-fill-color: #666;\n",
              "  }\n",
              "\n",
              "  .colab-df-quickchart {\n",
              "    background-color: var(--bg-color);\n",
              "    border: none;\n",
              "    border-radius: 50%;\n",
              "    cursor: pointer;\n",
              "    display: none;\n",
              "    fill: var(--fill-color);\n",
              "    height: 32px;\n",
              "    padding: 0;\n",
              "    width: 32px;\n",
              "  }\n",
              "\n",
              "  .colab-df-quickchart:hover {\n",
              "    background-color: var(--hover-bg-color);\n",
              "    box-shadow: 0 1px 2px rgba(60, 64, 67, 0.3), 0 1px 3px 1px rgba(60, 64, 67, 0.15);\n",
              "    fill: var(--button-hover-fill-color);\n",
              "  }\n",
              "\n",
              "  .colab-df-quickchart-complete:disabled,\n",
              "  .colab-df-quickchart-complete:disabled:hover {\n",
              "    background-color: var(--disabled-bg-color);\n",
              "    fill: var(--disabled-fill-color);\n",
              "    box-shadow: none;\n",
              "  }\n",
              "\n",
              "  .colab-df-spinner {\n",
              "    border: 2px solid var(--fill-color);\n",
              "    border-color: transparent;\n",
              "    border-bottom-color: var(--fill-color);\n",
              "    animation:\n",
              "      spin 1s steps(1) infinite;\n",
              "  }\n",
              "\n",
              "  @keyframes spin {\n",
              "    0% {\n",
              "      border-color: transparent;\n",
              "      border-bottom-color: var(--fill-color);\n",
              "      border-left-color: var(--fill-color);\n",
              "    }\n",
              "    20% {\n",
              "      border-color: transparent;\n",
              "      border-left-color: var(--fill-color);\n",
              "      border-top-color: var(--fill-color);\n",
              "    }\n",
              "    30% {\n",
              "      border-color: transparent;\n",
              "      border-left-color: var(--fill-color);\n",
              "      border-top-color: var(--fill-color);\n",
              "      border-right-color: var(--fill-color);\n",
              "    }\n",
              "    40% {\n",
              "      border-color: transparent;\n",
              "      border-right-color: var(--fill-color);\n",
              "      border-top-color: var(--fill-color);\n",
              "    }\n",
              "    60% {\n",
              "      border-color: transparent;\n",
              "      border-right-color: var(--fill-color);\n",
              "    }\n",
              "    80% {\n",
              "      border-color: transparent;\n",
              "      border-right-color: var(--fill-color);\n",
              "      border-bottom-color: var(--fill-color);\n",
              "    }\n",
              "    90% {\n",
              "      border-color: transparent;\n",
              "      border-bottom-color: var(--fill-color);\n",
              "    }\n",
              "  }\n",
              "</style>\n",
              "\n",
              "  <script>\n",
              "    async function quickchart(key) {\n",
              "      const quickchartButtonEl =\n",
              "        document.querySelector('#' + key + ' button');\n",
              "      quickchartButtonEl.disabled = true;  // To prevent multiple clicks.\n",
              "      quickchartButtonEl.classList.add('colab-df-spinner');\n",
              "      try {\n",
              "        const charts = await google.colab.kernel.invokeFunction(\n",
              "            'suggestCharts', [key], {});\n",
              "      } catch (error) {\n",
              "        console.error('Error during call to suggestCharts:', error);\n",
              "      }\n",
              "      quickchartButtonEl.classList.remove('colab-df-spinner');\n",
              "      quickchartButtonEl.classList.add('colab-df-quickchart-complete');\n",
              "    }\n",
              "    (() => {\n",
              "      let quickchartButtonEl =\n",
              "        document.querySelector('#df-6653668e-9dc8-445f-a658-b12729fe3802 button');\n",
              "      quickchartButtonEl.style.display =\n",
              "        google.colab.kernel.accessAllowed ? 'block' : 'none';\n",
              "    })();\n",
              "  </script>\n",
              "</div>\n",
              "\n",
              "    </div>\n",
              "  </div>\n"
            ],
            "application/vnd.google.colaboratory.intrinsic+json": {
              "type": "dataframe",
              "summary": "{\n  \"name\": \"ev_data\",\n  \"rows\": 8,\n  \"fields\": [\n    {\n      \"column\": \"Postal Code\",\n      \"properties\": {\n        \"dtype\": \"number\",\n        \"std\": 57702.02099113129,\n        \"min\": 1545.0,\n        \"max\": 177861.0,\n        \"num_unique_values\": 8,\n        \"samples\": [\n          98172.45350582758,\n          98122.0,\n          177861.0\n        ],\n        \"semantic_type\": \"\",\n        \"description\": \"\"\n      }\n    },\n    {\n      \"column\": \"Model Year\",\n      \"properties\": {\n        \"dtype\": \"number\",\n        \"std\": 62277.54622090304,\n        \"min\": 2.9893839501920065,\n        \"max\": 177866.0,\n        \"num_unique_values\": 8,\n        \"samples\": [\n          2020.51551167733,\n          2022.0,\n          177866.0\n        ],\n        \"semantic_type\": \"\",\n        \"description\": \"\"\n      }\n    },\n    {\n      \"column\": \"Electric Range\",\n      \"properties\": {\n        \"dtype\": \"number\",\n        \"std\": 62856.798067176234,\n        \"min\": 0.0,\n        \"max\": 177866.0,\n        \"num_unique_values\": 6,\n        \"samples\": [\n          177866.0,\n          58.842162077069254,\n          337.0\n        ],\n        \"semantic_type\": \"\",\n        \"description\": \"\"\n      }\n    },\n    {\n      \"column\": \"Base MSRP\",\n      \"properties\": {\n        \"dtype\": \"number\",\n        \"std\": 295810.63092935504,\n        \"min\": 0.0,\n        \"max\": 845000.0,\n        \"num_unique_values\": 5,\n        \"samples\": [\n          1073.1093632284978,\n          845000.0,\n          8358.624956091093\n        ],\n        \"semantic_type\": \"\",\n        \"description\": \"\"\n      }\n    },\n    {\n      \"column\": \"Legislative District\",\n      \"properties\": {\n        \"dtype\": \"number\",\n        \"std\": 62738.151065040845,\n        \"min\": 1.0,\n        \"max\": 177477.0,\n        \"num_unique_values\": 8,\n        \"samples\": [\n          29.12748130743702,\n          33.0,\n          177477.0\n        ],\n        \"semantic_type\": \"\",\n        \"description\": \"\"\n      }\n    },\n    {\n      \"column\": \"DOL Vehicle ID\",\n      \"properties\": {\n        \"dtype\": \"number\",\n        \"std\": 157971876.85966384,\n        \"min\": 4385.0,\n        \"max\": 479254772.0,\n        \"num_unique_values\": 8,\n        \"samples\": [\n          220231266.05454668,\n          228252237.0,\n          177866.0\n        ],\n        \"semantic_type\": \"\",\n        \"description\": \"\"\n      }\n    },\n    {\n      \"column\": \"2020 Census Tract\",\n      \"properties\": {\n        \"dtype\": \"number\",\n        \"std\": 27331288450.909916,\n        \"min\": 177861.0,\n        \"max\": 56033000100.0,\n        \"num_unique_values\": 8,\n        \"samples\": [\n          52976721055.55796,\n          53033029602.0,\n          177861.0\n        ],\n        \"semantic_type\": \"\",\n        \"description\": \"\"\n      }\n    }\n  ]\n}"
            }
          },
          "metadata": {},
          "execution_count": 6
        }
      ]
    },
    {
      "cell_type": "code",
      "source": [
        "ev_data.isnull().sum()"
      ],
      "metadata": {
        "colab": {
          "base_uri": "https://localhost:8080/"
        },
        "id": "df8wwaUrcZ72",
        "outputId": "07a755e1-330b-4c79-817c-c1594ad5fac4"
      },
      "execution_count": 7,
      "outputs": [
        {
          "output_type": "execute_result",
          "data": {
            "text/plain": [
              "VIN (1-10)                                             0\n",
              "County                                                 5\n",
              "City                                                   5\n",
              "State                                                  0\n",
              "Postal Code                                            5\n",
              "Model Year                                             0\n",
              "Make                                                   0\n",
              "Model                                                  0\n",
              "Electric Vehicle Type                                  0\n",
              "Clean Alternative Fuel Vehicle (CAFV) Eligibility      0\n",
              "Electric Range                                         0\n",
              "Base MSRP                                              0\n",
              "Legislative District                                 389\n",
              "DOL Vehicle ID                                         0\n",
              "Vehicle Location                                       9\n",
              "Electric Utility                                       5\n",
              "2020 Census Tract                                      5\n",
              "dtype: int64"
            ]
          },
          "metadata": {},
          "execution_count": 7
        }
      ]
    },
    {
      "cell_type": "code",
      "source": [
        "ev_data.dropna(inplace=True)"
      ],
      "metadata": {
        "id": "GmIKl_VzclcF"
      },
      "execution_count": 3,
      "outputs": []
    },
    {
      "cell_type": "code",
      "source": [
        "ev_data.isnull().sum()"
      ],
      "metadata": {
        "colab": {
          "base_uri": "https://localhost:8080/"
        },
        "id": "yf-irV5Kc2By",
        "outputId": "db91f643-6c59-4e3c-c61f-04019bd9f47d"
      },
      "execution_count": 10,
      "outputs": [
        {
          "output_type": "execute_result",
          "data": {
            "text/plain": [
              "VIN (1-10)                                           0\n",
              "County                                               0\n",
              "City                                                 0\n",
              "State                                                0\n",
              "Postal Code                                          0\n",
              "Model Year                                           0\n",
              "Make                                                 0\n",
              "Model                                                0\n",
              "Electric Vehicle Type                                0\n",
              "Clean Alternative Fuel Vehicle (CAFV) Eligibility    0\n",
              "Electric Range                                       0\n",
              "Base MSRP                                            0\n",
              "Legislative District                                 0\n",
              "DOL Vehicle ID                                       0\n",
              "Vehicle Location                                     0\n",
              "Electric Utility                                     0\n",
              "2020 Census Tract                                    0\n",
              "dtype: int64"
            ]
          },
          "metadata": {},
          "execution_count": 10
        }
      ]
    },
    {
      "cell_type": "code",
      "source": [],
      "metadata": {
        "id": "Ym9I8CCo8CiE"
      },
      "execution_count": null,
      "outputs": []
    },
    {
      "cell_type": "markdown",
      "source": [
        "## Let’s start with analyzing the EV Adoption Over Time by visualizing the number of EVs registered by model year. It will give us an insight into how the EV population has grown over the years:"
      ],
      "metadata": {
        "id": "2inVRCbNjDpv"
      }
    },
    {
      "cell_type": "code",
      "source": [
        "import matplotlib.pyplot as plt\n",
        "import seaborn as sns"
      ],
      "metadata": {
        "id": "Gf7Cu3mnjHVe"
      },
      "execution_count": 4,
      "outputs": []
    },
    {
      "cell_type": "code",
      "source": [
        "sns.set_style('whitegrid')\n",
        "plt.figure(figsize=(10,6))\n",
        "ev_adoption_by_year=ev_data['Model Year'].value_counts().sort_index()\n",
        "sns.barplot(x=ev_adoption_by_year.index, y=ev_adoption_by_year.values, palette='viridis')\n",
        "plt.title('EV Adoption Over Time')\n",
        "plt.xlabel('Model Year')\n",
        "plt.ylabel('Number of Vehicles Registered')\n",
        "plt.xticks(rotation=45)\n",
        "plt.tight_layout()\n",
        "plt.show()"
      ],
      "metadata": {
        "colab": {
          "base_uri": "https://localhost:8080/",
          "height": 698
        },
        "id": "frTDaSE_lIJ_",
        "outputId": "62d0526e-cbff-465e-82cf-7e0efd696692"
      },
      "execution_count": 7,
      "outputs": [
        {
          "output_type": "stream",
          "name": "stderr",
          "text": [
            "<ipython-input-7-833afdc7f8a5>:4: FutureWarning: \n",
            "\n",
            "Passing `palette` without assigning `hue` is deprecated and will be removed in v0.14.0. Assign the `x` variable to `hue` and set `legend=False` for the same effect.\n",
            "\n",
            "  sns.barplot(x=ev_adoption_by_year.index, y=ev_adoption_by_year.values, palette='viridis')\n"
          ]
        },
        {
          "output_type": "display_data",
          "data": {
            "text/plain": [
              "<Figure size 1000x600 with 1 Axes>"
            ],
            "image/png": "[encoded data removed]"
          },
          "metadata": {}
        }
      ]
    },
    {
      "cell_type": "markdown",
      "source": [
        "https://seaborn.pydata.org/generated/seaborn.set_style.html"
      ],
      "metadata": {
        "id": "Znjqa_NLmSXF"
      }
    },
    {
      "cell_type": "markdown",
      "source": [
        "### From the above bar chart, it’s clear that EV adoption has been increasing over time, especially noting a significant upward trend starting around 2016. The number of vehicles registered grows modestly up until that point and then begins to rise more rapidly from 2017 onwards. The year 2023 shows a particularly sharp increase in the number of registered EVs, with the bar for 2023 being the highest on the graph, indicating a peak in EV adoption."
      ],
      "metadata": {
        "id": "VXyJQoHQoHbt"
      }
    },
    {
      "cell_type": "markdown",
      "source": [
        "## Now, let’s start by selecting the top 3 counties based on EV registrations and then analyze the distribution of EVs within the cities of those counties:"
      ],
      "metadata": {
        "id": "ZliNsx4XoRD_"
      }
    },
    {
      "cell_type": "code",
      "source": [
        "# geographical distribution at county level\n",
        "ev_county_distribution = ev_data['County'].value_counts()\n",
        "top_counties = ev_county_distribution.head(3).index\n",
        "\n",
        "# filtering the dataset for these top counties\n",
        "top_counties_data = ev_data[ev_data['County'].isin(top_counties)]\n",
        "\n",
        "# analyzing the distribution of EVs within the cities of these top counties\n",
        "ev_city_distribution_top_counties = top_counties_data.groupby(['County', 'City']).size().sort_values(ascending=False).reset_index(name='Number of Vehicles')\n",
        "\n",
        "# visualize the top 10 cities across these counties\n",
        "top_cities = ev_city_distribution_top_counties.head(10)\n",
        "\n",
        "plt.figure(figsize=(12, 8))\n",
        "sns.barplot(x='Number of Vehicles', y='City', hue='County', data=top_cities, palette=\"magma\")\n",
        "plt.title('Top Cities in Top Counties by EV Registrations')\n",
        "plt.xlabel('Number of Vehicles Registered')\n",
        "plt.ylabel('City')\n",
        "plt.legend(title='County')\n",
        "plt.tight_layout()\n",
        "plt.show()"
      ],
      "metadata": {
        "colab": {
          "base_uri": "https://localhost:8080/",
          "height": 807
        },
        "id": "7vXDHLREn06x",
        "outputId": "d6deca65-d01e-4b8e-cffd-dcdca4264c58"
      },
      "execution_count": 8,
      "outputs": [
        {
          "output_type": "display_data",
          "data": {
            "text/plain": [
              "<Figure size 1200x800 with 1 Axes>"
            ],
            "image/png": "[encoded data removed]"
          },
          "metadata": {}
        }
      ]
    },
    {
      "cell_type": "markdown",
      "source": [
        "### The above graph compares the number of electric vehicles registered in various cities within three counties: King, Snohomish, and Pierce. The horizontal bars represent cities, and their length corresponds to the number of vehicles registered, colour-coded by county. Here are the key findings from the above graph:\n",
        "\n",
        "Seattle, which is in King County, has the highest number of EV registrations by a significant margin, far outpacing the other cities listed.\n",
        "Bellevue and Redmond, also in King County, follow Seattle with the next highest registrations, though these are considerably less than Seattle’s.\n",
        "Cities in Snohomish County, such as Kirkland and Sammamish, show moderate EV registrations.\n",
        "Tacoma and Tukwila, representing Pierce County, have the fewest EV registrations among the cities listed, with Tacoma slightly ahead of Tukwila.\n",
        "The majority of cities shown are from King County, which seems to dominate EV registrations among the three counties.\n",
        "Overall, the graph indicates that EV adoption is not uniform across the cities and is more concentrated in certain areas, particularly in King County."
      ],
      "metadata": {
        "id": "oxPwroUEoww3"
      }
    },
    {
      "cell_type": "markdown",
      "source": [
        "## Next, let’s explore the types of electric vehicles represented in this dataset. Understanding the breakdown between different EV types, such as Battery Electric Vehicles (BEV) and Plug-in Hybrid Electric Vehicles (PHEV), can provide insights into consumer preferences and the adoption patterns of purely electric vs. hybrid electric solutions. So, let’s visualize the distribution of electric vehicle types to see which categories are most popular among the registered vehicles:"
      ],
      "metadata": {
        "id": "8TFbNRzqpDbs"
      }
    },
    {
      "cell_type": "code",
      "source": [
        "# analyzing the distribution of electric vehicle Types\n",
        "ev_type_distribution = ev_data['Electric Vehicle Type'].value_counts()\n",
        "\n",
        "plt.figure(figsize=(10, 6))\n",
        "sns.barplot(x=ev_type_distribution.values, y=ev_type_distribution.index, palette=\"rocket\")\n",
        "plt.title('Distribution of Electric Vehicle Types')\n",
        "plt.xlabel('Number of Vehicles Registered')\n",
        "plt.ylabel('Electric Vehicle Type')\n",
        "plt.tight_layout()\n",
        "plt.show()"
      ],
      "metadata": {
        "colab": {
          "base_uri": "https://localhost:8080/",
          "height": 698
        },
        "id": "-VU0mMXbok0G",
        "outputId": "e2457fb5-7ee7-467f-fbc6-c148f8969a68"
      },
      "execution_count": 9,
      "outputs": [
        {
          "output_type": "stream",
          "name": "stderr",
          "text": [
            "<ipython-input-9-ca7a33edced1>:5: FutureWarning: \n",
            "\n",
            "Passing `palette` without assigning `hue` is deprecated and will be removed in v0.14.0. Assign the `y` variable to `hue` and set `legend=False` for the same effect.\n",
            "\n",
            "  sns.barplot(x=ev_type_distribution.values, y=ev_type_distribution.index, palette=\"rocket\")\n"
          ]
        },
        {
          "output_type": "display_data",
          "data": {
            "text/plain": [
              "<Figure size 1000x600 with 1 Axes>"
            ],
            "image/png": "[encoded data removed]"
          },
          "metadata": {}
        }
      ]
    },
    {
      "cell_type": "markdown",
      "source": [
        "### The above graph shows that BEVs are more popular or preferred over PHEVs among the electric vehicles registered in the United States.Let’s now focus on the popularity of electric vehicle manufacturers and models among the registered vehicles. This analysis will help us identify which manufacturers and specific models dominate the EV market, potentially indicating consumer preferences, brand loyalty, and the success of various manufacturers’ strategies in promoting electric mobility."
      ],
      "metadata": {
        "id": "i-J-R5SmpQso"
      }
    },
    {
      "cell_type": "markdown",
      "source": [
        "### So, let’s have a look at the most popular manufacturers and then drill down into the most popular models within those manufacturers:"
      ],
      "metadata": {
        "id": "j7lOPwsLpZoE"
      }
    },
    {
      "cell_type": "code",
      "source": [
        "# analyzing the popularity of EV manufacturers\n",
        "ev_make_distribution = ev_data['Make'].value_counts().head(10)  # Limiting to top 10 for clarity\n",
        "\n",
        "plt.figure(figsize=(12, 6))\n",
        "sns.barplot(x=ev_make_distribution.values, y=ev_make_distribution.index, palette=\"cubehelix\")\n",
        "plt.title('Top 10 Popular EV Makes')\n",
        "plt.xlabel('Number of Vehicles Registered')\n",
        "plt.ylabel('Make')\n",
        "plt.tight_layout()\n",
        "plt.show()"
      ],
      "metadata": {
        "colab": {
          "base_uri": "https://localhost:8080/",
          "height": 698
        },
        "id": "zZyBYr5ApQWK",
        "outputId": "77c0883b-4cf1-46ce-9896-3a4938a7c6e4"
      },
      "execution_count": 10,
      "outputs": [
        {
          "output_type": "stream",
          "name": "stderr",
          "text": [
            "<ipython-input-10-50a4300e5f58>:5: FutureWarning: \n",
            "\n",
            "Passing `palette` without assigning `hue` is deprecated and will be removed in v0.14.0. Assign the `y` variable to `hue` and set `legend=False` for the same effect.\n",
            "\n",
            "  sns.barplot(x=ev_make_distribution.values, y=ev_make_distribution.index, palette=\"cubehelix\")\n"
          ]
        },
        {
          "output_type": "display_data",
          "data": {
            "text/plain": [
              "<Figure size 1200x600 with 1 Axes>"
            ],
            "image/png": "[encoded data removed]"
          },
          "metadata": {}
        }
      ]
    },
    {
      "cell_type": "markdown",
      "source": [
        "### The above chart shows that:\n",
        "TESLA leads by a substantial margin with the highest number of vehicles registered.\n",
        "NISSAN is the second most popular manufacturer, followed by CHEVROLET, though both have significantly fewer registrations than TESLA.\n",
        "FORD, BMW, KIA, TOYOTA, VOLKSWAGEN, JEEP, and HYUNDAI follow in decreasing order of the number of registered vehicles."
      ],
      "metadata": {
        "id": "JdNtoWgCpxpK"
      }
    },
    {
      "cell_type": "markdown",
      "source": [
        "##  Next, let’s drill down into the most popular models within these top manufacturers to get a more detailed understanding of consumer preferences at the model level:"
      ],
      "metadata": {
        "id": "X9D0ymVmp3lO"
      }
    },
    {
      "cell_type": "code",
      "source": [
        "# selecting the top 3 manufacturers based on the number of vehicles registered\n",
        "top_3_makes = ev_make_distribution.head(3).index\n",
        "\n",
        "# filtering the dataset for these top manufacturers\n",
        "top_makes_data = ev_data[ev_data['Make'].isin(top_3_makes)]\n",
        "\n",
        "# analyzing the popularity of EV models within these top manufacturers\n",
        "ev_model_distribution_top_makes = top_makes_data.groupby(['Make', 'Model']).size().sort_values(ascending=False).reset_index(name='Number of Vehicles')\n",
        "\n",
        "# visualizing the top 10 models across these manufacturers for clarity\n",
        "top_models = ev_model_distribution_top_makes.head(10)\n",
        "\n",
        "plt.figure(figsize=(12, 8))\n",
        "sns.barplot(x='Number of Vehicles', y='Model', hue='Make', data=top_models, palette=\"viridis\")\n",
        "plt.title('Top Models in Top 3 Makes by EV Registrations')\n",
        "plt.xlabel('Number of Vehicles Registered')\n",
        "plt.ylabel('Model')\n",
        "plt.legend(title='Make', loc='center right')\n",
        "plt.tight_layout()\n",
        "plt.show()"
      ],
      "metadata": {
        "id": "nV01l9qvp1Sc"
      },
      "execution_count": null,
      "outputs": []
    },
    {
      "cell_type": "markdown",
      "source": [
        "### The above graph shows the distribution of electric vehicle registrations among different models from the top three manufacturers: TESLA, NISSAN, and CHEVROLET. Here are the findings:\n",
        "\n",
        "TESLA’s MODEL Y and MODEL 3 are the most registered vehicles, with MODEL Y having the highest number of registrations.\n",
        "NISSAN’s LEAF is the third most registered model and the most registered non-TESLA vehicle.\n",
        "TESLA’s MODEL S and MODEL X also have a significant number of registrations.\n",
        "CHEVROLET’s BOLT EV and VOLT are the next in the ranking with considerable registrations, followed by BOLT EUV.\n",
        " NISSAN’s ARIYA and CHEVROLET’s SPARK have the least number of registrations among the models shown."
      ],
      "metadata": {
        "id": "GDbrddzfqRO9"
      }
    },
    {
      "cell_type": "markdown",
      "source": [
        "## Next, we’ll explore the electric range of vehicles, which is a critical factor for analyzing the market size of electric vehicles. The electric range indicates how far an EV can travel on a single charge, and advancements in battery technology have been steadily increasing these ranges over the years. So, let’s look at the distribution of electric ranges in the dataset and identify any notable trends, such as improvements over time or variations between different vehicle types or manufacturers:"
      ],
      "metadata": {
        "id": "FUUGhLVQqYqy"
      }
    },
    {
      "cell_type": "code",
      "source": [
        "# analyzing the distribution of electric range\n",
        "plt.figure(figsize=(12, 6))\n",
        "sns.histplot(ev_data['Electric Range'], bins=30, kde=True, color='royalblue')\n",
        "plt.title('Distribution of Electric Vehicle Ranges')\n",
        "plt.xlabel('Electric Range (miles)')\n",
        "plt.ylabel('Number of Vehicles')\n",
        "plt.axvline(ev_data['Electric Range'].mean(), color='red', linestyle='--', label=f'Mean Range: {ev_data[\"Electric Range\"].mean():.2f} miles')\n",
        "plt.legend()\n",
        "plt.show()"
      ],
      "metadata": {
        "id": "cZw1Y2FTqWO7"
      },
      "execution_count": null,
      "outputs": []
    },
    {
      "cell_type": "markdown",
      "source": [
        "### The above graph shows the mean electric range. Key observations from the graph include:\n",
        "\n",
        "There is a high frequency of vehicles with a low electric range, with a significant peak occurring just before 50 miles.\n",
        "The distribution is skewed to the right, with a long tail extending towards higher ranges, although the number of vehicles with higher ranges is much less frequent.\n",
        "The mean electric range for this set of vehicles is marked at approximately 58.84 miles, which is relatively low compared to the highest ranges shown in the graph.\n",
        "Despite the presence of electric vehicles with ranges that extend up to around 350 miles, the majority of the vehicles have a range below the mean.\n",
        "It suggests that while there are EVs available with high electric ranges, the average range is skewed lower due to a substantial number of vehicles with shorter ranges."
      ],
      "metadata": {
        "id": "YfhwQJzQqf5n"
      }
    },
    {
      "cell_type": "markdown",
      "source": [
        "## Now, let’s delve into the trend of electric ranges over model years, which can provide insights into how advancements in battery technology and vehicle design have influenced the electric range capabilities of electric vehicles over time. A positive trend in this analysis would indicate continuous improvements, offering consumers EVs with longer driving ranges and potentially addressing one of the major concerns regarding the EV market (range anxiety):"
      ],
      "metadata": {
        "id": "G5nOlE7Rqm5n"
      }
    },
    {
      "cell_type": "code",
      "source": [
        "# calculating the average electric range by model year\n",
        "average_range_by_year = ev_data.groupby('Model Year')['Electric Range'].mean().reset_index()\n",
        "\n",
        "plt.figure(figsize=(12, 6))\n",
        "sns.lineplot(x='Model Year', y='Electric Range', data=average_range_by_year, marker='o', color='green')\n",
        "plt.title('Average Electric Range by Model Year')\n",
        "plt.xlabel('Model Year')\n",
        "plt.ylabel('Average Electric Range (miles)')\n",
        "plt.grid(True)\n",
        "plt.show()"
      ],
      "metadata": {
        "id": "15U_cAqlqiWN"
      },
      "execution_count": null,
      "outputs": []
    },
    {
      "cell_type": "markdown",
      "source": [
        "### The above graph shows the progression of the average electric range of vehicles from around the year 2000 to 2024. Key findings from the graph:\n",
        "\n",
        "There is a general upward trend in the average electric range of EVs over the years, indicating improvements in technology and battery efficiency.\n",
        "There is a noticeable peak around the year 2020 when the average range reaches its highest point.\n",
        "Following 2020, there’s a significant drop in the average range, which could indicate that data for the following years might be incomplete or reflect the introduction of several lower-range models.\n",
        "After the sharp decline, there is a slight recovery in the average range in the most recent year shown on the graph.\n",
        "The data suggest that while there have been fluctuations, the overall trend over the last two decades has been toward increasing the electric range of EVs"
      ],
      "metadata": {
        "id": "zpbnfDMxqyTD"
      }
    },
    {
      "cell_type": "markdown",
      "source": [
        "## Next, let’s explore how electric ranges vary among the top manufacturers and models. This analysis can reveal how different manufacturers are addressing the crucial aspect of electric range and highlight which models stand out for their superior range capabilities:"
      ],
      "metadata": {
        "id": "ijV-H3Psq9h8"
      }
    },
    {
      "cell_type": "code",
      "source": [
        "average_range_by_model = top_makes_data.groupby(['Make', 'Model'])['Electric Range'].mean().sort_values(ascending=False).reset_index()\n",
        "\n",
        "# the top 10 models with the highest average electric range\n",
        "top_range_models = average_range_by_model.head(10)\n",
        "\n",
        "plt.figure(figsize=(12, 8))\n",
        "barplot = sns.barplot(x='Electric Range', y='Model', hue='Make', data=top_range_models, palette=\"cool\")\n",
        "plt.title('Top 10 Models by Average Electric Range in Top Makes')\n",
        "plt.xlabel('Average Electric Range (miles)')\n",
        "plt.ylabel('Model')\n",
        "plt.legend(title='Make', loc='center right')\n",
        "plt.show()"
      ],
      "metadata": {
        "id": "2gUO2PMIq5p1"
      },
      "execution_count": null,
      "outputs": []
    },
    {
      "cell_type": "markdown",
      "source": [
        "### The TESLA ROADSTER has the highest average electric range among the models listed. TESLA’s models (ROADSTER, MODEL S, MODEL X, and MODEL 3) occupy the majority of the top positions, indicating that on average, TESLA’s vehicles have higher electric ranges. The CHEVROLET BOLT EV is an outlier among the CHEVROLET models, having a substantially higher range than the VOLT and S-10 PICKUP from the same maker. NISSAN’s LEAF and CHEVROLET’s SPARK are in the lower half of the chart, suggesting more modest average ranges."
      ],
      "metadata": {
        "id": "NpfCFjA0rBYv"
      }
    },
    {
      "cell_type": "markdown",
      "source": [
        "## Estimated Market Size Analysis of Electric Vehicles in the United States"
      ],
      "metadata": {
        "id": "lK--HDtYrLOA"
      }
    },
    {
      "cell_type": "markdown",
      "source": [
        "## Now, let’s move forward towards finding the estimated market size of electric vehicles in the United States. I’ll first count the number of EVs registered every year:"
      ],
      "metadata": {
        "id": "HobKEzZ2rOrn"
      }
    },
    {
      "cell_type": "code",
      "source": [
        "# calculate the number of EVs registered each year\n",
        "ev_registration_counts = ev_data['Model Year'].value_counts().sort_index()\n",
        "ev_registration_counts"
      ],
      "metadata": {
        "id": "S4O9t_S1rFLG"
      },
      "execution_count": null,
      "outputs": []
    },
    {
      "cell_type": "markdown",
      "source": [
        "### The dataset provides the number of electric vehicles registered each year from 1997 through 2024. However, the data for 2024 is incomplete as it only contains the data till March. Here’s a summary of EV registrations for recent years:\n",
        "\n",
        "In 2021, there were 19,063 EVs registered.\n",
        "In 2022, the number increased to 27708 EVs.\n",
        "In 2023, a significant jump to 57,519 EVs was observed.\n",
        "For 2024, currently, 7,072 EVs are registered, which suggests partial data.\n",
        "To forecast the total number of EVs expected to be registered in 2024, we can use a growth rate based approach from previous complete years."
      ],
      "metadata": {
        "id": "sg3Px9SNrUL8"
      }
    },
    {
      "cell_type": "markdown",
      "source": [
        "### We’ll calculate the Compound Annual Growth Rate (CAGR) between a recent year with complete data (2023) and an earlier year to project the 2024 figures. Additionally, using this growth rate, we can estimate the market size for the next five years. Let’s proceed with these calculations:"
      ],
      "metadata": {
        "id": "9SsLMuubrWHr"
      }
    },
    {
      "cell_type": "code",
      "source": [
        "from scipy.optimize import curve_fit\n",
        "import numpy as np\n",
        "\n",
        "# filter the dataset to include years with complete data, assuming 2023 is the last complete year\n",
        "filtered_years = ev_registration_counts[ev_registration_counts.index <= 2023]\n",
        "\n",
        "# define a function for exponential growth to fit the data\n",
        "def exp_growth(x, a, b):\n",
        "    return a * np.exp(b * x)\n",
        "\n",
        "# prepare the data for curve fitting\n",
        "x_data = filtered_years.index - filtered_years.index.min()\n",
        "y_data = filtered_years.values\n",
        "\n",
        "# fit the data to the exponential growth function\n",
        "params, covariance = curve_fit(exp_growth, x_data, y_data)\n",
        "\n",
        "# use the fitted function to forecast the number of EVs for 2024 and the next five years\n",
        "forecast_years = np.arange(2024, 2024 + 6) - filtered_years.index.min()\n",
        "forecasted_values = exp_growth(forecast_years, *params)\n",
        "\n",
        "# create a dictionary to display the forecasted values for easier interpretation\n",
        "forecasted_evs = dict(zip(forecast_years + filtered_years.index.min(), forecasted_values))\n",
        "\n",
        "print(forecasted_evs)"
      ],
      "metadata": {
        "id": "gC6d1-4rrbUT"
      },
      "execution_count": null,
      "outputs": []
    },
    {
      "cell_type": "markdown",
      "source": [
        "### Now, let’s plot the estimated market size data:"
      ],
      "metadata": {
        "id": "zyMqdSbvreZU"
      }
    },
    {
      "cell_type": "code",
      "source": [
        "# prepare data for plotting\n",
        "years = np.arange(filtered_years.index.min(), 2029 + 1)\n",
        "actual_years = filtered_years.index\n",
        "forecast_years_full = np.arange(2024, 2029 + 1)\n",
        "\n",
        "# actual and forecasted values\n",
        "actual_values = filtered_years.values\n",
        "forecasted_values_full = [forecasted_evs[year] for year in forecast_years_full]\n",
        "\n",
        "plt.figure(figsize=(12, 8))\n",
        "plt.plot(actual_years, actual_values, 'bo-', label='Actual Registrations')\n",
        "plt.plot(forecast_years_full, forecasted_values_full, 'ro--', label='Forecasted Registrations')\n",
        "\n",
        "plt.title('Current & Estimated EV Market')\n",
        "plt.xlabel('Year')\n",
        "plt.ylabel('Number of EV Registrations')\n",
        "plt.legend()\n",
        "plt.grid(True)\n",
        "\n",
        "plt.show()"
      ],
      "metadata": {
        "id": "QjECwT6HrgwW"
      },
      "execution_count": null,
      "outputs": []
    },
    {
      "cell_type": "markdown",
      "source": [
        "### From the above graph, we can see:\n",
        "\n",
        "The number of actual EV registrations remained relatively low and stable until around 2010, after which there was a consistent and steep upward trend, suggesting a significant increase in EV adoption.\n",
        "The forecasted EV registrations predict an even more dramatic increase in the near future, with the number of registrations expected to rise sharply in the coming years.\n",
        "Given the growing trend in actual EV registrations and the projected acceleration as per the forecast data, we can conclude that the EV market size is expected to expand considerably. The steep increase in forecasted registrations suggests that consumer adoption of EVs is on the rise, and this trend is likely to continue. Overall, the data point towards a promising future for the EV industry, indicating a significant shift in consumer preferences and a potential increase in related investment and business opportunities."
      ],
      "metadata": {
        "id": "5ggNVY3Hrk77"
      }
    },
    {
      "cell_type": "markdown",
      "source": [
        "### Summary\n",
        "So, market size analysis is a crucial aspect of market research that determines the potential sales volume within a given market. It helps businesses understand the magnitude of demand, assess market saturation levels, and identify growth opportunities. From our market size analysis of electric vehicles, we found a promising future for the EV industry, indicating a significant shift in consumer preferences and a potential increase in related investment and business opportunities.\n",
        "\n",
        "I hope you liked this article on Electric Vehicles market size analysis using Python. Feel free to ask valuable questions in the comments section below. You can follow me on Instagram for many more resources."
      ],
      "metadata": {
        "id": "6sRsUcdcrowU"
      }
    }
  ]
}